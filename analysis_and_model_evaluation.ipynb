{
  "nbformat": 4,
  "nbformat_minor": 0,
  "metadata": {
    "kernelspec": {
      "display_name": "Python 3",
      "language": "python",
      "name": "python3"
    },
    "language_info": {
      "codemirror_mode": {
        "name": "ipython",
        "version": 3
      },
      "file_extension": ".py",
      "mimetype": "text/x-python",
      "name": "python",
      "nbconvert_exporter": "python",
      "pygments_lexer": "ipython3",
      "version": "3.6.9"
    },
    "colab": {
      "name": "COMPARISON_EXAMPLE.ipynb",
      "provenance": []
    }
  },
  "cells": [
    {
      "cell_type": "markdown",
      "metadata": {
        "id": "Jc8vy5b_cDzZ"
      },
      "source": [
        "# Highest score in Tiny ImageNet validation dataset"
      ]
    },
    {
      "cell_type": "markdown",
      "metadata": {
        "id": "2nvilBOIcDzd"
      },
      "source": [
        "The goal was to achieve the highest possible (at least 55%) accuracy in the Tiny ImageNet validation dataset.\n",
        "The sample code provided, which utilizes ResNet18 (not pre-trained?) model achieved 50% accuracy after 30 epochs.\n",
        "\n",
        "First I tried training with sample code and different combinations of augmentations. Not all of the tries successfully trained for 30 epochs, but those that did (original default.yaml for example) had a worse or negligible difference in performance. \n",
        "\n",
        "Then I tried modifying the number of epochs.\n",
        "The example code achieved an accuracy of about 55% at aroud 50 epochs, at which point the accuracy plateaued.\n",
        "\n",
        "I tried to use a different network with the sample code provided but the files I needed to change were all over the place. So I decided to follow a tutorial in [TDS article](https://towardsdatascience.com/pytorch-ignite-classifying-tiny-imagenet-with-efficientnet-e5b1768e5e8f). This example used EfficientNet-B3 pretrained network.\n"
      ]
    },
    {
      "cell_type": "code",
      "metadata": {
        "colab": {
          "base_uri": "https://localhost:8080/"
        },
        "id": "RN7MR7eScDzi",
        "outputId": "517d9e6d-c460-49c5-e815-2652ad51f271"
      },
      "source": [
        "import os\n",
        "import sys\n",
        "\n",
        "os.chdir('..')\n",
        "os.getcwd()\n",
        "\n",
        "import torch\n",
        "import pandas as pd\n",
        "\n",
        "import seaborn as sns\n",
        "\n",
        "from pathlib import Path\n",
        "\n",
        "from tensorboard.backend.event_processing.event_accumulator import EventAccumulator\n",
        "from functools import reduce\n",
        "\n",
        "device = torch.device('cuda') if torch.cuda.is_available() else torch.device('cpu')\n",
        "print(f'Use {device}')\n",
        "\n",
        "from importlib import reload \n"
      ],
      "execution_count": 30,
      "outputs": [
        {
          "output_type": "stream",
          "name": "stdout",
          "text": [
            "Use cpu\n"
          ]
        }
      ]
    },
    {
      "cell_type": "markdown",
      "metadata": {
        "id": "EJbcMKvDcDzk"
      },
      "source": [
        "### Visualizing tensorboard stats"
      ]
    },
    {
      "cell_type": "code",
      "metadata": {
        "id": "0Yxa629XcDzl"
      },
      "source": [
        "def read_tensorboard(path, tags=['training/accuracy', 'validation/accuracy']):\n",
        "    ea =  EventAccumulator(path)\n",
        "    ea.Reload()\n",
        "    dfs = []\n",
        "    for tag in tags:\n",
        "        df = pd.DataFrame(ea.Scalars(tag)).drop('wall_time', 1)\n",
        "        df.columns = ['step', tag]\n",
        "        dfs.append(df)\n",
        "    dfs = reduce(lambda left, right: pd.merge(left, right, on='step'), dfs)\n",
        "    return dfs"
      ],
      "execution_count": 31,
      "outputs": []
    },
    {
      "cell_type": "code",
      "metadata": {
        "colab": {
          "base_uri": "https://localhost:8080/",
          "height": 235
        },
        "id": "0-4Bu8ogcDzl",
        "outputId": "55c9fdb4-c451-42eb-dcd5-b7a807289c29"
      },
      "source": [
        "training_v1 = read_tensorboard('content/events.out.tfevents.1638201141.cbdab2f461ad')\n",
        "\n",
        "training = pd.concat([\n",
        "    training_v1.assign(model='efficientnet_test0'),\n",
        "])\n",
        "training = training.melt(id_vars=['step', 'model'], value_name='accuracy', var_name='split')\n",
        "\n",
        "training.split = training.split.str.replace('_acc', '')\n",
        "\n",
        "training.head(10)"
      ],
      "execution_count": 34,
      "outputs": [
        {
          "output_type": "execute_result",
          "data": {
            "text/html": [
              "<div>\n",
              "<style scoped>\n",
              "    .dataframe tbody tr th:only-of-type {\n",
              "        vertical-align: middle;\n",
              "    }\n",
              "\n",
              "    .dataframe tbody tr th {\n",
              "        vertical-align: top;\n",
              "    }\n",
              "\n",
              "    .dataframe thead th {\n",
              "        text-align: right;\n",
              "    }\n",
              "</style>\n",
              "<table border=\"1\" class=\"dataframe\">\n",
              "  <thead>\n",
              "    <tr style=\"text-align: right;\">\n",
              "      <th></th>\n",
              "      <th>step</th>\n",
              "      <th>model</th>\n",
              "      <th>split</th>\n",
              "      <th>accuracy</th>\n",
              "    </tr>\n",
              "  </thead>\n",
              "  <tbody>\n",
              "    <tr>\n",
              "      <th>0</th>\n",
              "      <td>1</td>\n",
              "      <td>efficientnet_test0</td>\n",
              "      <td>training/accuracy</td>\n",
              "      <td>0.52830</td>\n",
              "    </tr>\n",
              "    <tr>\n",
              "      <th>1</th>\n",
              "      <td>2</td>\n",
              "      <td>efficientnet_test0</td>\n",
              "      <td>training/accuracy</td>\n",
              "      <td>0.62055</td>\n",
              "    </tr>\n",
              "    <tr>\n",
              "      <th>2</th>\n",
              "      <td>3</td>\n",
              "      <td>efficientnet_test0</td>\n",
              "      <td>training/accuracy</td>\n",
              "      <td>0.66301</td>\n",
              "    </tr>\n",
              "    <tr>\n",
              "      <th>3</th>\n",
              "      <td>1</td>\n",
              "      <td>efficientnet_test0</td>\n",
              "      <td>validation/accuracy</td>\n",
              "      <td>0.48870</td>\n",
              "    </tr>\n",
              "    <tr>\n",
              "      <th>4</th>\n",
              "      <td>2</td>\n",
              "      <td>efficientnet_test0</td>\n",
              "      <td>validation/accuracy</td>\n",
              "      <td>0.55140</td>\n",
              "    </tr>\n",
              "    <tr>\n",
              "      <th>5</th>\n",
              "      <td>3</td>\n",
              "      <td>efficientnet_test0</td>\n",
              "      <td>validation/accuracy</td>\n",
              "      <td>0.56940</td>\n",
              "    </tr>\n",
              "  </tbody>\n",
              "</table>\n",
              "</div>"
            ],
            "text/plain": [
              "   step               model                split  accuracy\n",
              "0     1  efficientnet_test0    training/accuracy   0.52830\n",
              "1     2  efficientnet_test0    training/accuracy   0.62055\n",
              "2     3  efficientnet_test0    training/accuracy   0.66301\n",
              "3     1  efficientnet_test0  validation/accuracy   0.48870\n",
              "4     2  efficientnet_test0  validation/accuracy   0.55140\n",
              "5     3  efficientnet_test0  validation/accuracy   0.56940"
            ]
          },
          "metadata": {},
          "execution_count": 34
        }
      ]
    },
    {
      "cell_type": "markdown",
      "metadata": {
        "id": "rmYYmZFPcDzl"
      },
      "source": [
        "Plot training curves"
      ]
    },
    {
      "cell_type": "code",
      "metadata": {
        "colab": {
          "base_uri": "https://localhost:8080/",
          "height": 279
        },
        "id": "2ICkvqDycDzm",
        "outputId": "2254c340-9343-425a-888c-3ac8101ebdd3"
      },
      "source": [
        "sns.lineplot(x='step', y='accuracy', hue='model', style='split', data=training)\n",
        "plt.show()"
      ],
      "execution_count": 35,
      "outputs": [
        {
          "output_type": "display_data",
          "data": {
            "image/png": "[encoded data removed]",
            "text/plain": [
              "<Figure size 432x288 with 1 Axes>"
            ]
          },
          "metadata": {
            "needs_background": "light"
          }
        }
      ]
    },
    {
      "cell_type": "markdown",
      "metadata": {
        "id": "PXq04nAccDzm"
      },
      "source": [
        "After training for 3 epochs the model achieved a validation accuracy of 57%.\n",
        "Since the training ran for 3 epochs only (1h in Kaggle/2h in Colab), it is hard to say what is the limit of this model if given more computation time. Probaby could reach 60% by 10 epochs?"
      ]
    },
    {
      "cell_type": "markdown",
      "metadata": {
        "id": "zdRwsX7TGP13"
      },
      "source": [
        "## Evaluate trained weights\n",
        "Upload weights file \"default_efficientnet_accyracy_0.5694.pt\" to colab directory 'content/'.\\\n",
        "Run code blocks below to evaluate trained model."
      ]
    },
    {
      "cell_type": "markdown",
      "metadata": {
        "id": "3rwRX4-bfrG0"
      },
      "source": [
        "##### Use our trained weights"
      ]
    },
    {
      "cell_type": "code",
      "metadata": {
        "colab": {
          "base_uri": "https://localhost:8080/"
        },
        "id": "s6AUSkrELUJM",
        "outputId": "e9621a24-9d99-40b4-df5b-bf8b1e0f98d3"
      },
      "source": [
        "!pip install efficientnet-pytorch\n",
        "\n",
        "# Define model architecture (using efficientnet-b3 version)\n",
        "from efficientnet_pytorch import EfficientNet\n",
        "model = EfficientNet.from_pretrained('efficientnet-b3', num_classes=200)\n",
        "\n",
        "state_dict = torch.load('content/default_efficientnet_accuracy_0.5694.pt', map_location=torch.device('cpu'))\n",
        "model.load_state_dict(state_dict)"
      ],
      "execution_count": 81,
      "outputs": [
        {
          "output_type": "stream",
          "name": "stdout",
          "text": [
            "Requirement already satisfied: efficientnet-pytorch in /usr/local/lib/python3.7/dist-packages (0.7.1)\n",
            "Requirement already satisfied: torch in /usr/local/lib/python3.7/dist-packages (from efficientnet-pytorch) (1.10.0+cu111)\n",
            "Requirement already satisfied: typing-extensions in /usr/local/lib/python3.7/dist-packages (from torch->efficientnet-pytorch) (3.10.0.2)\n",
            "Loaded pretrained weights for efficientnet-b3\n"
          ]
        },
        {
          "output_type": "execute_result",
          "data": {
            "text/plain": [
              "<All keys matched successfully>"
            ]
          },
          "metadata": {},
          "execution_count": 81
        }
      ]
    },
    {
      "cell_type": "markdown",
      "metadata": {
        "id": "wvZ5m8vwf4YD"
      },
      "source": [
        "#### Create validation dataloader"
      ]
    },
    {
      "cell_type": "code",
      "metadata": {
        "id": "34tjNCwDGPXs"
      },
      "source": [
        "from torchvision import transforms as T\n",
        "from torch.utils.data import DataLoader, TensorDataset, Dataset\n",
        "\n",
        "\n",
        "# Define device to use (CPU or GPU). CUDA = GPU support for PyTorch\n",
        "use_cuda = torch.cuda.is_available()\n",
        "device = torch.device(\"cuda\" if use_cuda else \"cpu\")\n",
        "\n",
        "# Setup function to create dataloaders for image datasets\n",
        "def generate_dataloader(data, name, transform):\n",
        "    if data is None: \n",
        "        return None\n",
        "    \n",
        "    # Read image files to pytorch dataset using ImageFolder, a generic data \n",
        "    # loader where images are in format root/label/filename\n",
        "    # See https://pytorch.org/vision/stable/datasets.html\n",
        "    if transform is None:\n",
        "        dataset = datasets.ImageFolder(data, transform=T.ToTensor())\n",
        "    else:\n",
        "        dataset = datasets.ImageFolder(data, transform=transform)\n",
        "\n",
        "    # Set options for device\n",
        "    if use_cuda:\n",
        "        kwargs = {\"pin_memory\": True, \"num_workers\": 1}\n",
        "    else:\n",
        "        kwargs = {}\n",
        "    \n",
        "    # Wrap image dataset (defined above) in dataloader \n",
        "    dataloader = DataLoader(dataset, batch_size=batch_size, \n",
        "                        shuffle=(name==\"train\"), \n",
        "                        **kwargs)\n",
        "    \n",
        "    return dataloader\n",
        "\n",
        "# Create separate validation subfolders for the validation images based on\n",
        "# their labels indicated in the val_annotations txt file\n",
        "val_img_dir = os.path.join(VALID_DIR, 'images')\n",
        "\n",
        "# Open and read val annotations text file\n",
        "fp = open(os.path.join(VALID_DIR, 'val_annotations.txt'), 'r')\n",
        "data = fp.readlines()\n",
        "\n",
        "# Create dictionary to store img filename (word 0) and corresponding\n",
        "# label (word 1) for every line in the txt file (as key value pair)\n",
        "val_img_dict = {}\n",
        "for line in data:\n",
        "    words = line.split('\\t')\n",
        "    val_img_dict[words[0]] = words[1]\n",
        "fp.close()\n",
        "\n",
        "# Display first 10 entries of resulting val_img_dict dictionary\n",
        "{k: val_img_dict[k] for k in list(val_img_dict)[:10]}\n",
        "\n",
        "\n",
        "# Create subfolders (if not present) for validation images based on label,\n",
        "# and move images into the respective folders\n",
        "for img, folder in val_img_dict.items():\n",
        "    newpath = (os.path.join(val_img_dir, folder))\n",
        "    if not os.path.exists(newpath):\n",
        "        os.makedirs(newpath)\n",
        "    if os.path.exists(os.path.join(val_img_dir, img)):\n",
        "        os.rename(os.path.join(val_img_dir, img), os.path.join(newpath, img))\n",
        "\n",
        "# Create DataLoader\n",
        "val_loader_pretrain = generate_dataloader(val_img_dir, \"val\",\n",
        "                                 transform=None)"
      ],
      "execution_count": 91,
      "outputs": []
    },
    {
      "cell_type": "markdown",
      "metadata": {
        "id": "u6_gX0jRf-Iq"
      },
      "source": [
        "#### Measure model accuracy"
      ]
    },
    {
      "cell_type": "code",
      "metadata": {
        "colab": {
          "base_uri": "https://localhost:8080/",
          "height": 1000
        },
        "id": "29lwqxVPdkaz",
        "outputId": "e3412324-8933-4d52-e1c9-49fb396d5252"
      },
      "source": [
        "from torch.autograd import Variable\n",
        "\n",
        "\n",
        "correct = 0\n",
        "total = 0\n",
        "for data in val_loader_pretrain:\n",
        "    images, labels = data\n",
        "    outputs = model(Variable(images))\n",
        "    _, predicted = torch.max(outputs.data, 1)\n",
        "    print(\"pred: \", predicted)\n",
        "    print(\"Act: \", labels)\n",
        "    total += labels.size(0)\n",
        "    correct += (predicted == labels).sum()\n",
        "    #print(f'Progress --- total: {total}, correct: {correct}')\n",
        "print('Accuracy of the network on the 10000 test images: ', (100 * correct / total))"
      ],
      "execution_count": 93,
      "outputs": [
        {
          "output_type": "stream",
          "name": "stdout",
          "text": [
            "pred:  tensor([ 55,  69, 144,   0,  85, 137, 152, 119,  44,  67, 196,   5, 146,  67,\n",
            "         55])\n",
            "Act:  tensor([0, 0, 0, 0, 0, 0, 0, 0, 0, 0, 0, 0, 0, 0, 0])\n",
            "pred:  tensor([152,  62, 164, 174, 118,   4,  69, 147,  83,  88, 192,  37,  80, 167,\n",
            "         69])\n",
            "Act:  tensor([0, 0, 0, 0, 0, 0, 0, 0, 0, 0, 0, 0, 0, 0, 0])\n",
            "pred:  tensor([171, 140, 189,  96,  44,  85,  69,  40,  88,  71, 142, 182,  53, 135,\n",
            "        188])\n",
            "Act:  tensor([0, 0, 0, 0, 0, 0, 0, 0, 0, 0, 0, 0, 0, 0, 0])\n",
            "pred:  tensor([ 88,  36, 175, 148,   0,  48,  40, 146,  61,  39,  67, 127, 196,  85,\n",
            "         75])\n",
            "Act:  tensor([0, 0, 0, 0, 0, 1, 1, 1, 1, 1, 1, 1, 1, 1, 1])\n",
            "pred:  tensor([125,  73, 154,  82, 146, 178,  91,  75, 137,   9, 182,  96,  23,  40,\n",
            "        114])\n",
            "Act:  tensor([1, 1, 1, 1, 1, 1, 1, 1, 1, 1, 1, 1, 1, 1, 1])\n",
            "pred:  tensor([154, 147, 189, 144, 145, 146,  82, 151,  85, 171,  60, 145, 186,  72,\n",
            "         40])\n",
            "Act:  tensor([1, 1, 1, 1, 1, 1, 1, 1, 1, 1, 1, 1, 1, 1, 1])\n",
            "pred:  tensor([162, 196, 142,  40, 174,  36,  96, 146,   1,   9,  62,  33,  80,   5,\n",
            "        194])\n",
            "Act:  tensor([1, 1, 1, 1, 1, 1, 1, 1, 1, 1, 2, 2, 2, 2, 2])\n",
            "pred:  tensor([ 21, 180,  38,  62,  85, 164, 195, 118,  72, 184,  53, 145,  87,  19,\n",
            "        117])\n",
            "Act:  tensor([2, 2, 2, 2, 2, 2, 2, 2, 2, 2, 2, 2, 2, 2, 2])\n",
            "pred:  tensor([131, 103, 194,  17,  87,  88,  35, 135, 134,  42, 147,  59, 196,  69,\n",
            "        181])\n",
            "Act:  tensor([2, 2, 2, 2, 2, 2, 2, 2, 2, 2, 2, 2, 2, 2, 2])\n",
            "pred:  tensor([ 87, 184,  19, 123, 188, 119,  51, 157, 103, 140, 140,  18, 144,  50,\n",
            "        126])\n",
            "Act:  tensor([2, 2, 2, 2, 2, 2, 2, 2, 2, 2, 2, 2, 2, 2, 2])\n",
            "pred:  tensor([ 29, 188,  87,  38, 126, 145,  69, 169,  69,  96,  21,  93, 107,  39,\n",
            "        146])\n",
            "Act:  tensor([3, 3, 3, 3, 3, 3, 3, 3, 3, 3, 3, 3, 3, 3, 3])\n",
            "pred:  tensor([147,  64, 108, 173,  39,  22, 169, 184, 125,  83,  61, 181,  10, 156,\n",
            "        114])\n",
            "Act:  tensor([3, 3, 3, 3, 3, 3, 3, 3, 3, 3, 3, 3, 3, 3, 3])\n",
            "pred:  tensor([ 55,  74,  81,  31,  85, 122,  96, 144,  93, 199, 196, 147, 198, 146,\n",
            "         98])\n",
            "Act:  tensor([3, 3, 3, 3, 3, 3, 3, 3, 3, 3, 3, 3, 3, 3, 3])\n",
            "pred:  tensor([118,   0,  32, 144,  29, 188, 108,  67, 164,  84, 199,  85,  38,  34,\n",
            "        137])\n",
            "Act:  tensor([3, 3, 3, 3, 3, 4, 4, 4, 4, 4, 4, 4, 4, 4, 4])\n",
            "pred:  tensor([175,  75,  88,  67,  89,  71,  69,  94,   5, 154, 145, 186,  31,  39,\n",
            "         29])\n",
            "Act:  tensor([4, 4, 4, 4, 4, 4, 4, 4, 4, 4, 4, 4, 4, 4, 4])\n",
            "pred:  tensor([ 10, 146,  52, 159, 196, 103, 112,  69,  26,  60, 157,  80, 197, 194,\n",
            "        187])\n",
            "Act:  tensor([4, 4, 4, 4, 4, 4, 4, 4, 4, 4, 4, 4, 4, 4, 4])\n",
            "pred:  tensor([ 21, 170, 136, 188,  91, 171, 188,  46,  82,  72,  46,  39, 108,  88,\n",
            "         68])\n",
            "Act:  tensor([4, 4, 4, 4, 4, 4, 4, 4, 4, 4, 5, 5, 5, 5, 5])\n",
            "pred:  tensor([162,  91,   2,  55,  98, 189,  62, 142, 169,  32,  87,  88, 171, 145,\n",
            "        151])\n",
            "Act:  tensor([5, 5, 5, 5, 5, 5, 5, 5, 5, 5, 5, 5, 5, 5, 5])\n",
            "pred:  tensor([ 81,   4,  88, 131, 145, 118, 176, 185,  93, 117, 188,  92,  69, 174,\n",
            "         85])\n",
            "Act:  tensor([5, 5, 5, 5, 5, 5, 5, 5, 5, 5, 5, 5, 5, 5, 5])\n",
            "pred:  tensor([148, 183, 175, 126,  34,  89,  91, 195, 137, 147,  59, 193,  67, 163,\n",
            "        196])\n",
            "Act:  tensor([5, 5, 5, 5, 5, 5, 5, 5, 5, 5, 5, 5, 5, 5, 5])\n",
            "pred:  tensor([196, 114, 106,  37, 137,  13, 149, 183, 175,  33, 169, 143, 153, 108,\n",
            "        126])\n",
            "Act:  tensor([6, 6, 6, 6, 6, 6, 6, 6, 6, 6, 6, 6, 6, 6, 6])\n",
            "pred:  tensor([147, 129, 188, 169, 195, 144, 196,  91,  55, 111, 196,  88, 119, 186,\n",
            "         87])\n",
            "Act:  tensor([6, 6, 6, 6, 6, 6, 6, 6, 6, 6, 6, 6, 6, 6, 6])\n",
            "pred:  tensor([107, 179, 196,  67, 110, 146,  60, 174,  14, 151, 177,  54,  84, 170,\n",
            "        198])\n",
            "Act:  tensor([6, 6, 6, 6, 6, 6, 6, 6, 6, 6, 6, 6, 6, 6, 6])\n",
            "pred:  tensor([182, 169, 135,  60, 127, 116,  17,  95,  40,  63,  18, 104,  80, 162,\n",
            "        102])\n",
            "Act:  tensor([6, 6, 6, 6, 6, 7, 7, 7, 7, 7, 7, 7, 7, 7, 7])\n",
            "pred:  tensor([  4, 198, 103,  82,  13, 192,  44, 171, 117, 189, 185, 175, 145,  28,\n",
            "         36])\n",
            "Act:  tensor([7, 7, 7, 7, 7, 7, 7, 7, 7, 7, 7, 7, 7, 7, 7])\n",
            "pred:  tensor([196, 135,  83, 136, 151, 115, 141,  67, 184,  29,  85,  42,  15,  65,\n",
            "         54])\n",
            "Act:  tensor([7, 7, 7, 7, 7, 7, 7, 7, 7, 7, 7, 7, 7, 7, 7])\n",
            "pred:  tensor([ 39,   6, 144, 154, 164,  78,  86,  81,   6,  67, 167,   0, 132, 188,\n",
            "        100])\n",
            "Act:  tensor([7, 7, 7, 7, 7, 7, 7, 7, 7, 7, 8, 8, 8, 8, 8])\n",
            "pred:  tensor([162,  91, 181, 149,  87, 196,  35, 125,  84, 151, 129,  94,  26, 174,\n",
            "         93])\n",
            "Act:  tensor([8, 8, 8, 8, 8, 8, 8, 8, 8, 8, 8, 8, 8, 8, 8])\n",
            "pred:  tensor([107,   2,  17,  52, 121,  62, 184,  39,  97,  16, 140, 141,  57, 107,\n",
            "        144])\n",
            "Act:  tensor([8, 8, 8, 8, 8, 8, 8, 8, 8, 8, 8, 8, 8, 8, 8])\n",
            "pred:  tensor([ 90, 143, 145,  33, 119,   0,  76, 157, 194, 124,  98,  37,  92, 111,\n",
            "          6])\n",
            "Act:  tensor([8, 8, 8, 8, 8, 8, 8, 8, 8, 8, 8, 8, 8, 8, 8])\n",
            "pred:  tensor([134, 170,  10,  76, 175,  58,  99,   9,  23, 104,  45,  11, 185,  69,\n",
            "          2])\n",
            "Act:  tensor([9, 9, 9, 9, 9, 9, 9, 9, 9, 9, 9, 9, 9, 9, 9])\n",
            "pred:  tensor([ 54,  23,  62, 146,   6,  63, 191, 129, 169, 190, 119, 188,  66,  26,\n",
            "         55])\n",
            "Act:  tensor([9, 9, 9, 9, 9, 9, 9, 9, 9, 9, 9, 9, 9, 9, 9])\n",
            "pred:  tensor([107, 139,  46, 177,  40, 180,  90,  39, 195, 126,  21, 145,  38, 119,\n",
            "         13])\n",
            "Act:  tensor([9, 9, 9, 9, 9, 9, 9, 9, 9, 9, 9, 9, 9, 9, 9])\n",
            "pred:  tensor([ 98, 190,  18, 189,  55, 109, 139, 150, 110,  38, 136,   0,  69, 182,\n",
            "         22])\n",
            "Act:  tensor([ 9,  9,  9,  9,  9, 10, 10, 10, 10, 10, 10, 10, 10, 10, 10])\n",
            "pred:  tensor([ 60, 168,  67, 136,  93,   9, 144, 188, 198,  62, 117,  69, 181, 122,\n",
            "         36])\n",
            "Act:  tensor([10, 10, 10, 10, 10, 10, 10, 10, 10, 10, 10, 10, 10, 10, 10])\n",
            "pred:  tensor([  4,  44, 141,  69, 196,  67, 171,  66,  59,  74,  99,  61,   9, 130,\n",
            "        172])\n",
            "Act:  tensor([10, 10, 10, 10, 10, 10, 10, 10, 10, 10, 10, 10, 10, 10, 10])\n",
            "pred:  tensor([ 39,  19,   0, 100, 169,  87, 140, 144,  35, 126,  51, 171, 166, 146,\n",
            "        103])\n",
            "Act:  tensor([10, 10, 10, 10, 10, 10, 10, 10, 10, 10, 11, 11, 11, 11, 11])\n",
            "pred:  tensor([ 40, 135, 136,  84, 141,  75, 194, 137, 196,  88, 185,  60,  90, 189,\n",
            "          9])\n",
            "Act:  tensor([11, 11, 11, 11, 11, 11, 11, 11, 11, 11, 11, 11, 11, 11, 11])\n",
            "pred:  tensor([193,  40, 154, 198,   1,  77, 168,  97,  50,  93,  63, 184, 196,  49,\n",
            "         92])\n",
            "Act:  tensor([11, 11, 11, 11, 11, 11, 11, 11, 11, 11, 11, 11, 11, 11, 11])\n",
            "pred:  tensor([145,  89,  98, 184, 196,  91, 177,  29,  87,  14, 100,  55, 194,  78,\n",
            "         74])\n",
            "Act:  tensor([11, 11, 11, 11, 11, 11, 11, 11, 11, 11, 11, 11, 11, 11, 11])\n",
            "pred:  tensor([ 61, 184,  76,  64,   7,  55, 136, 189,  57,  71,  89, 148, 193, 140,\n",
            "        194])\n",
            "Act:  tensor([12, 12, 12, 12, 12, 12, 12, 12, 12, 12, 12, 12, 12, 12, 12])\n",
            "pred:  tensor([  2,  18,  34,  65, 103,  75, 194,  81, 108,  35, 142,  14,   0,  95,\n",
            "         90])\n",
            "Act:  tensor([12, 12, 12, 12, 12, 12, 12, 12, 12, 12, 12, 12, 12, 12, 12])\n",
            "pred:  tensor([141, 142,  75, 183,  80, 154,  68, 162, 169,  69, 192, 115, 140, 194,\n",
            "         32])\n",
            "Act:  tensor([12, 12, 12, 12, 12, 12, 12, 12, 12, 12, 12, 12, 12, 12, 12])\n",
            "pred:  tensor([170, 154, 195, 136,  78,  80, 144, 108,  68, 182, 145,  13, 145,  75,\n",
            "        196])\n",
            "Act:  tensor([12, 12, 12, 12, 12, 13, 13, 13, 13, 13, 13, 13, 13, 13, 13])\n"
          ]
        },
        {
          "output_type": "error",
          "ename": "KeyboardInterrupt",
          "evalue": "ignored",
          "traceback": [
            "\u001b[0;31m---------------------------------------------------------------------------\u001b[0m",
            "\u001b[0;31mKeyboardInterrupt\u001b[0m                         Traceback (most recent call last)",
            "\u001b[0;32m<ipython-input-93-4fc0ccefda40>\u001b[0m in \u001b[0;36m<module>\u001b[0;34m()\u001b[0m\n\u001b[1;32m      6\u001b[0m \u001b[0;32mfor\u001b[0m \u001b[0mdata\u001b[0m \u001b[0;32min\u001b[0m \u001b[0mval_loader_pretrain\u001b[0m\u001b[0;34m:\u001b[0m\u001b[0;34m\u001b[0m\u001b[0;34m\u001b[0m\u001b[0m\n\u001b[1;32m      7\u001b[0m     \u001b[0mimages\u001b[0m\u001b[0;34m,\u001b[0m \u001b[0mlabels\u001b[0m \u001b[0;34m=\u001b[0m \u001b[0mdata\u001b[0m\u001b[0;34m\u001b[0m\u001b[0;34m\u001b[0m\u001b[0m\n\u001b[0;32m----> 8\u001b[0;31m     \u001b[0moutputs\u001b[0m \u001b[0;34m=\u001b[0m \u001b[0mmodel\u001b[0m\u001b[0;34m(\u001b[0m\u001b[0mVariable\u001b[0m\u001b[0;34m(\u001b[0m\u001b[0mimages\u001b[0m\u001b[0;34m)\u001b[0m\u001b[0;34m)\u001b[0m\u001b[0;34m\u001b[0m\u001b[0;34m\u001b[0m\u001b[0m\n\u001b[0m\u001b[1;32m      9\u001b[0m     \u001b[0m_\u001b[0m\u001b[0;34m,\u001b[0m \u001b[0mpredicted\u001b[0m \u001b[0;34m=\u001b[0m \u001b[0mtorch\u001b[0m\u001b[0;34m.\u001b[0m\u001b[0mmax\u001b[0m\u001b[0;34m(\u001b[0m\u001b[0moutputs\u001b[0m\u001b[0;34m.\u001b[0m\u001b[0mdata\u001b[0m\u001b[0;34m,\u001b[0m \u001b[0;36m1\u001b[0m\u001b[0;34m)\u001b[0m\u001b[0;34m\u001b[0m\u001b[0;34m\u001b[0m\u001b[0m\n\u001b[1;32m     10\u001b[0m     \u001b[0mprint\u001b[0m\u001b[0;34m(\u001b[0m\u001b[0;34m\"pred: \"\u001b[0m\u001b[0;34m,\u001b[0m \u001b[0mpredicted\u001b[0m\u001b[0;34m)\u001b[0m\u001b[0;34m\u001b[0m\u001b[0;34m\u001b[0m\u001b[0m\n",
            "\u001b[0;32m/usr/local/lib/python3.7/dist-packages/torch/nn/modules/module.py\u001b[0m in \u001b[0;36m_call_impl\u001b[0;34m(self, *input, **kwargs)\u001b[0m\n\u001b[1;32m   1100\u001b[0m         if not (self._backward_hooks or self._forward_hooks or self._forward_pre_hooks or _global_backward_hooks\n\u001b[1;32m   1101\u001b[0m                 or _global_forward_hooks or _global_forward_pre_hooks):\n\u001b[0;32m-> 1102\u001b[0;31m             \u001b[0;32mreturn\u001b[0m \u001b[0mforward_call\u001b[0m\u001b[0;34m(\u001b[0m\u001b[0;34m*\u001b[0m\u001b[0minput\u001b[0m\u001b[0;34m,\u001b[0m \u001b[0;34m**\u001b[0m\u001b[0mkwargs\u001b[0m\u001b[0;34m)\u001b[0m\u001b[0;34m\u001b[0m\u001b[0;34m\u001b[0m\u001b[0m\n\u001b[0m\u001b[1;32m   1103\u001b[0m         \u001b[0;31m# Do not call functions when jit is used\u001b[0m\u001b[0;34m\u001b[0m\u001b[0;34m\u001b[0m\u001b[0;34m\u001b[0m\u001b[0m\n\u001b[1;32m   1104\u001b[0m         \u001b[0mfull_backward_hooks\u001b[0m\u001b[0;34m,\u001b[0m \u001b[0mnon_full_backward_hooks\u001b[0m \u001b[0;34m=\u001b[0m \u001b[0;34m[\u001b[0m\u001b[0;34m]\u001b[0m\u001b[0;34m,\u001b[0m \u001b[0;34m[\u001b[0m\u001b[0;34m]\u001b[0m\u001b[0;34m\u001b[0m\u001b[0;34m\u001b[0m\u001b[0m\n",
            "\u001b[0;32m/usr/local/lib/python3.7/dist-packages/efficientnet_pytorch/model.py\u001b[0m in \u001b[0;36mforward\u001b[0;34m(self, inputs)\u001b[0m\n\u001b[1;32m    312\u001b[0m         \"\"\"\n\u001b[1;32m    313\u001b[0m         \u001b[0;31m# Convolution layers\u001b[0m\u001b[0;34m\u001b[0m\u001b[0;34m\u001b[0m\u001b[0;34m\u001b[0m\u001b[0m\n\u001b[0;32m--> 314\u001b[0;31m         \u001b[0mx\u001b[0m \u001b[0;34m=\u001b[0m \u001b[0mself\u001b[0m\u001b[0;34m.\u001b[0m\u001b[0mextract_features\u001b[0m\u001b[0;34m(\u001b[0m\u001b[0minputs\u001b[0m\u001b[0;34m)\u001b[0m\u001b[0;34m\u001b[0m\u001b[0;34m\u001b[0m\u001b[0m\n\u001b[0m\u001b[1;32m    315\u001b[0m         \u001b[0;31m# Pooling and final linear layer\u001b[0m\u001b[0;34m\u001b[0m\u001b[0;34m\u001b[0m\u001b[0;34m\u001b[0m\u001b[0m\n\u001b[1;32m    316\u001b[0m         \u001b[0mx\u001b[0m \u001b[0;34m=\u001b[0m \u001b[0mself\u001b[0m\u001b[0;34m.\u001b[0m\u001b[0m_avg_pooling\u001b[0m\u001b[0;34m(\u001b[0m\u001b[0mx\u001b[0m\u001b[0;34m)\u001b[0m\u001b[0;34m\u001b[0m\u001b[0;34m\u001b[0m\u001b[0m\n",
            "\u001b[0;32m/usr/local/lib/python3.7/dist-packages/efficientnet_pytorch/model.py\u001b[0m in \u001b[0;36mextract_features\u001b[0;34m(self, inputs)\u001b[0m\n\u001b[1;32m    294\u001b[0m             \u001b[0;32mif\u001b[0m \u001b[0mdrop_connect_rate\u001b[0m\u001b[0;34m:\u001b[0m\u001b[0;34m\u001b[0m\u001b[0;34m\u001b[0m\u001b[0m\n\u001b[1;32m    295\u001b[0m                 \u001b[0mdrop_connect_rate\u001b[0m \u001b[0;34m*=\u001b[0m \u001b[0mfloat\u001b[0m\u001b[0;34m(\u001b[0m\u001b[0midx\u001b[0m\u001b[0;34m)\u001b[0m \u001b[0;34m/\u001b[0m \u001b[0mlen\u001b[0m\u001b[0;34m(\u001b[0m\u001b[0mself\u001b[0m\u001b[0;34m.\u001b[0m\u001b[0m_blocks\u001b[0m\u001b[0;34m)\u001b[0m  \u001b[0;31m# scale drop connect_rate\u001b[0m\u001b[0;34m\u001b[0m\u001b[0;34m\u001b[0m\u001b[0m\n\u001b[0;32m--> 296\u001b[0;31m             \u001b[0mx\u001b[0m \u001b[0;34m=\u001b[0m \u001b[0mblock\u001b[0m\u001b[0;34m(\u001b[0m\u001b[0mx\u001b[0m\u001b[0;34m,\u001b[0m \u001b[0mdrop_connect_rate\u001b[0m\u001b[0;34m=\u001b[0m\u001b[0mdrop_connect_rate\u001b[0m\u001b[0;34m)\u001b[0m\u001b[0;34m\u001b[0m\u001b[0;34m\u001b[0m\u001b[0m\n\u001b[0m\u001b[1;32m    297\u001b[0m \u001b[0;34m\u001b[0m\u001b[0m\n\u001b[1;32m    298\u001b[0m         \u001b[0;31m# Head\u001b[0m\u001b[0;34m\u001b[0m\u001b[0;34m\u001b[0m\u001b[0;34m\u001b[0m\u001b[0m\n",
            "\u001b[0;32m/usr/local/lib/python3.7/dist-packages/torch/nn/modules/module.py\u001b[0m in \u001b[0;36m_call_impl\u001b[0;34m(self, *input, **kwargs)\u001b[0m\n\u001b[1;32m   1100\u001b[0m         if not (self._backward_hooks or self._forward_hooks or self._forward_pre_hooks or _global_backward_hooks\n\u001b[1;32m   1101\u001b[0m                 or _global_forward_hooks or _global_forward_pre_hooks):\n\u001b[0;32m-> 1102\u001b[0;31m             \u001b[0;32mreturn\u001b[0m \u001b[0mforward_call\u001b[0m\u001b[0;34m(\u001b[0m\u001b[0;34m*\u001b[0m\u001b[0minput\u001b[0m\u001b[0;34m,\u001b[0m \u001b[0;34m**\u001b[0m\u001b[0mkwargs\u001b[0m\u001b[0;34m)\u001b[0m\u001b[0;34m\u001b[0m\u001b[0;34m\u001b[0m\u001b[0m\n\u001b[0m\u001b[1;32m   1103\u001b[0m         \u001b[0;31m# Do not call functions when jit is used\u001b[0m\u001b[0;34m\u001b[0m\u001b[0;34m\u001b[0m\u001b[0;34m\u001b[0m\u001b[0m\n\u001b[1;32m   1104\u001b[0m         \u001b[0mfull_backward_hooks\u001b[0m\u001b[0;34m,\u001b[0m \u001b[0mnon_full_backward_hooks\u001b[0m \u001b[0;34m=\u001b[0m \u001b[0;34m[\u001b[0m\u001b[0;34m]\u001b[0m\u001b[0;34m,\u001b[0m \u001b[0;34m[\u001b[0m\u001b[0;34m]\u001b[0m\u001b[0;34m\u001b[0m\u001b[0;34m\u001b[0m\u001b[0m\n",
            "\u001b[0;32m/usr/local/lib/python3.7/dist-packages/efficientnet_pytorch/model.py\u001b[0m in \u001b[0;36mforward\u001b[0;34m(self, inputs, drop_connect_rate)\u001b[0m\n\u001b[1;32m    105\u001b[0m             \u001b[0mx\u001b[0m \u001b[0;34m=\u001b[0m \u001b[0mself\u001b[0m\u001b[0;34m.\u001b[0m\u001b[0m_expand_conv\u001b[0m\u001b[0;34m(\u001b[0m\u001b[0minputs\u001b[0m\u001b[0;34m)\u001b[0m\u001b[0;34m\u001b[0m\u001b[0;34m\u001b[0m\u001b[0m\n\u001b[1;32m    106\u001b[0m             \u001b[0mx\u001b[0m \u001b[0;34m=\u001b[0m \u001b[0mself\u001b[0m\u001b[0;34m.\u001b[0m\u001b[0m_bn0\u001b[0m\u001b[0;34m(\u001b[0m\u001b[0mx\u001b[0m\u001b[0;34m)\u001b[0m\u001b[0;34m\u001b[0m\u001b[0;34m\u001b[0m\u001b[0m\n\u001b[0;32m--> 107\u001b[0;31m             \u001b[0mx\u001b[0m \u001b[0;34m=\u001b[0m \u001b[0mself\u001b[0m\u001b[0;34m.\u001b[0m\u001b[0m_swish\u001b[0m\u001b[0;34m(\u001b[0m\u001b[0mx\u001b[0m\u001b[0;34m)\u001b[0m\u001b[0;34m\u001b[0m\u001b[0;34m\u001b[0m\u001b[0m\n\u001b[0m\u001b[1;32m    108\u001b[0m \u001b[0;34m\u001b[0m\u001b[0m\n\u001b[1;32m    109\u001b[0m         \u001b[0mx\u001b[0m \u001b[0;34m=\u001b[0m \u001b[0mself\u001b[0m\u001b[0;34m.\u001b[0m\u001b[0m_depthwise_conv\u001b[0m\u001b[0;34m(\u001b[0m\u001b[0mx\u001b[0m\u001b[0;34m)\u001b[0m\u001b[0;34m\u001b[0m\u001b[0;34m\u001b[0m\u001b[0m\n",
            "\u001b[0;32m/usr/local/lib/python3.7/dist-packages/torch/nn/modules/module.py\u001b[0m in \u001b[0;36m_call_impl\u001b[0;34m(self, *input, **kwargs)\u001b[0m\n\u001b[1;32m   1100\u001b[0m         if not (self._backward_hooks or self._forward_hooks or self._forward_pre_hooks or _global_backward_hooks\n\u001b[1;32m   1101\u001b[0m                 or _global_forward_hooks or _global_forward_pre_hooks):\n\u001b[0;32m-> 1102\u001b[0;31m             \u001b[0;32mreturn\u001b[0m \u001b[0mforward_call\u001b[0m\u001b[0;34m(\u001b[0m\u001b[0;34m*\u001b[0m\u001b[0minput\u001b[0m\u001b[0;34m,\u001b[0m \u001b[0;34m**\u001b[0m\u001b[0mkwargs\u001b[0m\u001b[0;34m)\u001b[0m\u001b[0;34m\u001b[0m\u001b[0;34m\u001b[0m\u001b[0m\n\u001b[0m\u001b[1;32m   1103\u001b[0m         \u001b[0;31m# Do not call functions when jit is used\u001b[0m\u001b[0;34m\u001b[0m\u001b[0;34m\u001b[0m\u001b[0;34m\u001b[0m\u001b[0m\n\u001b[1;32m   1104\u001b[0m         \u001b[0mfull_backward_hooks\u001b[0m\u001b[0;34m,\u001b[0m \u001b[0mnon_full_backward_hooks\u001b[0m \u001b[0;34m=\u001b[0m \u001b[0;34m[\u001b[0m\u001b[0;34m]\u001b[0m\u001b[0;34m,\u001b[0m \u001b[0;34m[\u001b[0m\u001b[0;34m]\u001b[0m\u001b[0;34m\u001b[0m\u001b[0;34m\u001b[0m\u001b[0m\n",
            "\u001b[0;32m/usr/local/lib/python3.7/dist-packages/efficientnet_pytorch/utils.py\u001b[0m in \u001b[0;36mforward\u001b[0;34m(self, x)\u001b[0m\n\u001b[1;32m     78\u001b[0m \u001b[0;32mclass\u001b[0m \u001b[0mMemoryEfficientSwish\u001b[0m\u001b[0;34m(\u001b[0m\u001b[0mnn\u001b[0m\u001b[0;34m.\u001b[0m\u001b[0mModule\u001b[0m\u001b[0;34m)\u001b[0m\u001b[0;34m:\u001b[0m\u001b[0;34m\u001b[0m\u001b[0;34m\u001b[0m\u001b[0m\n\u001b[1;32m     79\u001b[0m     \u001b[0;32mdef\u001b[0m \u001b[0mforward\u001b[0m\u001b[0;34m(\u001b[0m\u001b[0mself\u001b[0m\u001b[0;34m,\u001b[0m \u001b[0mx\u001b[0m\u001b[0;34m)\u001b[0m\u001b[0;34m:\u001b[0m\u001b[0;34m\u001b[0m\u001b[0;34m\u001b[0m\u001b[0m\n\u001b[0;32m---> 80\u001b[0;31m         \u001b[0;32mreturn\u001b[0m \u001b[0mSwishImplementation\u001b[0m\u001b[0;34m.\u001b[0m\u001b[0mapply\u001b[0m\u001b[0;34m(\u001b[0m\u001b[0mx\u001b[0m\u001b[0;34m)\u001b[0m\u001b[0;34m\u001b[0m\u001b[0;34m\u001b[0m\u001b[0m\n\u001b[0m\u001b[1;32m     81\u001b[0m \u001b[0;34m\u001b[0m\u001b[0m\n\u001b[1;32m     82\u001b[0m \u001b[0;34m\u001b[0m\u001b[0m\n",
            "\u001b[0;32m/usr/local/lib/python3.7/dist-packages/efficientnet_pytorch/utils.py\u001b[0m in \u001b[0;36mforward\u001b[0;34m(ctx, i)\u001b[0m\n\u001b[1;32m     65\u001b[0m     \u001b[0;34m@\u001b[0m\u001b[0mstaticmethod\u001b[0m\u001b[0;34m\u001b[0m\u001b[0;34m\u001b[0m\u001b[0m\n\u001b[1;32m     66\u001b[0m     \u001b[0;32mdef\u001b[0m \u001b[0mforward\u001b[0m\u001b[0;34m(\u001b[0m\u001b[0mctx\u001b[0m\u001b[0;34m,\u001b[0m \u001b[0mi\u001b[0m\u001b[0;34m)\u001b[0m\u001b[0;34m:\u001b[0m\u001b[0;34m\u001b[0m\u001b[0;34m\u001b[0m\u001b[0m\n\u001b[0;32m---> 67\u001b[0;31m         \u001b[0mresult\u001b[0m \u001b[0;34m=\u001b[0m \u001b[0mi\u001b[0m \u001b[0;34m*\u001b[0m \u001b[0mtorch\u001b[0m\u001b[0;34m.\u001b[0m\u001b[0msigmoid\u001b[0m\u001b[0;34m(\u001b[0m\u001b[0mi\u001b[0m\u001b[0;34m)\u001b[0m\u001b[0;34m\u001b[0m\u001b[0;34m\u001b[0m\u001b[0m\n\u001b[0m\u001b[1;32m     68\u001b[0m         \u001b[0mctx\u001b[0m\u001b[0;34m.\u001b[0m\u001b[0msave_for_backward\u001b[0m\u001b[0;34m(\u001b[0m\u001b[0mi\u001b[0m\u001b[0;34m)\u001b[0m\u001b[0;34m\u001b[0m\u001b[0;34m\u001b[0m\u001b[0m\n\u001b[1;32m     69\u001b[0m         \u001b[0;32mreturn\u001b[0m \u001b[0mresult\u001b[0m\u001b[0;34m\u001b[0m\u001b[0;34m\u001b[0m\u001b[0m\n",
            "\u001b[0;31mKeyboardInterrupt\u001b[0m: "
          ]
        }
      ]
    },
    {
      "cell_type": "markdown",
      "metadata": {
        "id": "BB0KhFXhgB53"
      },
      "source": [
        "Can't get validation dataloader set up correctly, labels are not correct. The trained weights should still be 57% accurate."
      ]
    },
    {
      "cell_type": "markdown",
      "metadata": {
        "id": "eopr2DGdBxvV"
      },
      "source": [
        "Other notes:\\\n",
        "90% of trainings crashed when using provided sample code which heavily limited number of tests with different parameters.\n",
        "\n",
        "After using TowardsDataScience example no major problems occured. Sometimes only GPU out of memory error.\n",
        "\n",
        "\n"
      ]
    }
  ]
}